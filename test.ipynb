{
 "cells": [
  {
   "cell_type": "code",
   "execution_count": 1,
   "id": "60b4018c-9da6-41d6-a84a-bd85809c8b9d",
   "metadata": {},
   "outputs": [
    {
     "name": "stdout",
     "output_type": "stream",
     "text": [
      "Hello, GitHub! Jupyter Notebook is connected.\n"
     ]
    }
   ],
   "source": [
    "print(\"Hello, GitHub! Jupyter Notebook is connected.\")\n"
   ]
  },
  {
   "cell_type": "code",
   "execution_count": null,
   "id": "034fcb9b-9855-4b0d-803e-5f3befa0850f",
   "metadata": {},
   "outputs": [],
   "source": []
  }
 ],
 "metadata": {
  "kernelspec": {
   "display_name": "Python 3 (ipykernel)",
   "language": "python",
   "name": "python3"
  },
  "language_info": {
   "codemirror_mode": {
    "name": "ipython",
    "version": 3
   },
   "file_extension": ".py",
   "mimetype": "text/x-python",
   "name": "python",
   "nbconvert_exporter": "python",
   "pygments_lexer": "ipython3",
   "version": "3.12.1"
  }
 },
 "nbformat": 4,
 "nbformat_minor": 5
}
